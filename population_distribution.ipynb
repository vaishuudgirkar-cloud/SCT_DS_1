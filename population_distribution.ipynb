{
 "cells": [
  {
   "cell_type": "markdown",
   "id": "71c87866",
   "metadata": {},
   "source": [
    "# Population Data Analysis\n",
    "\n",
    "This notebook performs data cleaning and exploratory data analysis (EDA) on a sample population dataset containing **ages** and **genders**. Visualizations include a histogram for age distribution and a bar chart for gender distribution."
   ]
  },
  {
   "cell_type": "code",
   "execution_count": null,
   "id": "d01a4be3",
   "metadata": {},
   "outputs": [],
   "source": [
    "import pandas as pd\n",
    "import matplotlib.pyplot as plt\n",
    "import seaborn as sns\n",
    "\n",
    "# Display plots inline\n",
    "%matplotlib inline"
   ]
  },
  {
   "cell_type": "code",
   "execution_count": null,
   "id": "d8493aee",
   "metadata": {},
   "outputs": [],
   "source": [
    "df = pd.read_csv('population_cleaned.csv')\n",
    "df.head()"
   ]
  },
  {
   "cell_type": "markdown",
   "id": "df64d0bd",
   "metadata": {},
   "source": [
    "## Data Cleaning\n",
    "Check for missing values and data types."
   ]
  },
  {
   "cell_type": "code",
   "execution_count": null,
   "id": "ce261ab1",
   "metadata": {},
   "outputs": [],
   "source": [
    "df.info()\n",
    "df.isnull().sum()"
   ]
  },
  {
   "cell_type": "markdown",
   "id": "2429e43f",
   "metadata": {},
   "source": [
    "## Age Distribution"
   ]
  },
  {
   "cell_type": "code",
   "execution_count": null,
   "id": "77fca135",
   "metadata": {},
   "outputs": [],
   "source": [
    "plt.figure(figsize=(8,5))\n",
    "sns.histplot(df['Age'], bins=20, kde=True, color='skyblue')\n",
    "plt.title('Age Distribution')\n",
    "plt.xlabel('Age')\n",
    "plt.ylabel('Count')\n",
    "plt.show()"
   ]
  },
  {
   "cell_type": "markdown",
   "id": "3bdfd0f3",
   "metadata": {},
   "source": [
    "## Gender Distribution"
   ]
  },
  {
   "cell_type": "code",
   "execution_count": null,
   "id": "60ed3afb",
   "metadata": {},
   "outputs": [],
   "source": [
    "plt.figure(figsize=(6,5))\n",
    "sns.countplot(x='Gender', data=df, palette='Set2')\n",
    "plt.title('Gender Distribution')\n",
    "plt.xlabel('Gender')\n",
    "plt.ylabel('Count')\n",
    "plt.show()"
   ]
  }
 ],
 "metadata": {},
 "nbformat": 4,
 "nbformat_minor": 5
}